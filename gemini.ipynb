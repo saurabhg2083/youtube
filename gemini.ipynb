{
  "nbformat": 4,
  "nbformat_minor": 0,
  "metadata": {
    "colab": {
      "provenance": []
    },
    "kernelspec": {
      "name": "python3",
      "display_name": "Python 3"
    },
    "language_info": {
      "name": "python"
    }
  },
  "cells": [
    {
      "cell_type": "markdown",
      "source": [
        "Get your API Key from https://ai.google.dev/"
      ],
      "metadata": {
        "id": "XpuY2bEV_hIH"
      }
    },
    {
      "cell_type": "code",
      "source": [
        "!pip install -q -U google-generativeai"
      ],
      "metadata": {
        "id": "bzeT3PD7_L6k"
      },
      "execution_count": null,
      "outputs": []
    },
    {
      "cell_type": "code",
      "execution_count": null,
      "metadata": {
        "id": "2osrvOoj_Iwr"
      },
      "outputs": [],
      "source": [
        "import pathlib\n",
        "import textwrap\n",
        "import google.generativeai as genai\n",
        "# Now generate API KEY\n",
        "# ADD GOOGLE_API_KEY in name and your key in the value\n",
        "\n",
        "from google.colab import userdata\n",
        "GOOGLE_API_KEY=userdata.get('GOOGLE_API_KEY')\n",
        "genai.configure(api_key=GOOGLE_API_KEY)\n",
        "\n",
        "from IPython.display import display\n",
        "from IPython.display import Markdown\n",
        "\n",
        "def to_markdown(text):\n",
        "  text = text.replace('•', ' *')\n",
        "  return Markdown(textwrap.indent(text,'> ', predicate=lambda _:True))"
      ]
    },
    {
      "cell_type": "code",
      "source": [
        "for m in genai.list_models():\n",
        "  if 'generateContent' in m.supported_generation_methods:\n",
        "    print(m.name)"
      ],
      "metadata": {
        "colab": {
          "base_uri": "https://localhost:8080/",
          "height": 52
        },
        "id": "zKPYlzU0F5M2",
        "outputId": "47a9bb0a-5fc4-4410-9d44-b239a14dc0bc"
      },
      "execution_count": null,
      "outputs": [
        {
          "output_type": "stream",
          "name": "stdout",
          "text": [
            "models/gemini-pro\n",
            "models/gemini-pro-vision\n"
          ]
        }
      ]
    },
    {
      "cell_type": "code",
      "source": [
        "model =  genai.GenerativeModel('gemini-pro')\n"
      ],
      "metadata": {
        "id": "XmhdnIMAGK79"
      },
      "execution_count": null,
      "outputs": []
    },
    {
      "cell_type": "code",
      "source": [
        "%%time\n",
        "response = model.generate_content(\"What is he meaning of Life?\")"
      ],
      "metadata": {
        "colab": {
          "base_uri": "https://localhost:8080/",
          "height": 52
        },
        "id": "9OUq7QuEGVYe",
        "outputId": "739618df-2af4-47b8-c898-9457027abcbb"
      },
      "execution_count": null,
      "outputs": [
        {
          "output_type": "stream",
          "name": "stdout",
          "text": [
            "CPU times: user 123 ms, sys: 10.8 ms, total: 134 ms\n",
            "Wall time: 11.3 s\n"
          ]
        }
      ]
    },
    {
      "cell_type": "code",
      "source": [
        "response"
      ],
      "metadata": {
        "colab": {
          "base_uri": "https://localhost:8080/"
        },
        "id": "5zuOoG8zGgtO",
        "outputId": "d6e67c51-00b1-4a12-ab3c-857b10d90afb"
      },
      "execution_count": null,
      "outputs": [
        {
          "output_type": "execute_result",
          "data": {
            "text/plain": [
              "<google.generativeai.types.generation_types.GenerateContentResponse at 0x790229038190>"
            ]
          },
          "metadata": {},
          "execution_count": 17
        }
      ]
    },
    {
      "cell_type": "code",
      "source": [
        "response.text"
      ],
      "metadata": {
        "colab": {
          "base_uri": "https://localhost:8080/",
          "height": 175
        },
        "id": "JXow_WBuGksH",
        "outputId": "1465596f-c47a-4b4b-c409-4caed97de16f"
      },
      "execution_count": null,
      "outputs": [
        {
          "output_type": "execute_result",
          "data": {
            "text/plain": [
              "'The meaning of life is a question that has been pondered by philosophers, theologians, and scientists for centuries. There is no one definitive answer, as the meaning of life is ultimately a personal and subjective experience. However, there are many different theories and perspectives on what the meaning of life could be.\\n\\nHere are some common ideas about the meaning of life:\\n\\n**1. To find happiness and fulfillment.** Many people believe that the meaning of life is to find happiness and fulfillment in their own lives. This can be achieved through a variety of means, such as pursuing personal goals, developing close relationships, and engaging in activities that bring joy and satisfaction.\\n\\n**2. To make a difference in the world.** Others believe that the meaning of life is to make a positive difference in the world. This can be done through acts of kindness, charity, activism, or simply by living a life that inspires others.\\n\\n**3. To learn and grow.** Some people believe that the meaning of life is to learn and grow as a person. This can be achieved through education, travel, new experiences, and relationships.\\n\\n**4. To connect with something greater than oneself.** Many people find meaning in life by connecting with something greater than themselves, such as a higher power, nature, or the universe. This can be done through prayer, meditation, spiritual practices, or simply by spending time in nature.\\n\\n**5. To create something lasting.** Some people believe that the meaning of life is to create something that will last beyond their lifetime. This can be achieved through art, writing, music, or any other creative endeavor.\\n\\nUltimately, the meaning of life is a personal journey, and there is no right or wrong answer. What is meaningful to one person may not be meaningful to another. The important thing is to find what brings you joy, fulfillment, and purpose in your own life.\\n\\nHere are some additional perspectives on the meaning of life:\\n\\n* **The Dalai Lama:** \"The purpose of our lives is to be happy.\"\\n* **Viktor Frankl:** \"Man\\'s search for meaning is the primary motivation in his life.\"\\n* **Albert Camus:** \"Life is meaningless, but we must give it meaning.\"\\n* **Friedrich Nietzsche:** \"He who has a why to live for can bear almost any how.\"\\n* **Leo Tolstoy:** \"The meaning of life is not to be happy, but to be useful.\"\\n* **Bertrand Russell:** \"The good life is one inspired by love and guided by knowledge.\"\\n\\nNo matter what your beliefs are, the search for meaning in life is a journey that can be both challenging and rewarding. By reflecting on what is important to you and what brings you joy, you can find your own unique meaning of life.'"
            ],
            "application/vnd.google.colaboratory.intrinsic+json": {
              "type": "string"
            }
          },
          "metadata": {},
          "execution_count": 18
        }
      ]
    },
    {
      "cell_type": "code",
      "source": [
        "to_markdown(response.text)"
      ],
      "metadata": {
        "colab": {
          "base_uri": "https://localhost:8080/",
          "height": 573
        },
        "id": "tvS6UcgqG2XO",
        "outputId": "e71f020b-91e0-461a-c5b2-24a72c178dd2"
      },
      "execution_count": null,
      "outputs": [
        {
          "output_type": "execute_result",
          "data": {
            "text/plain": [
              "<IPython.core.display.Markdown object>"
            ],
            "text/markdown": "> The meaning of life is a question that has been pondered by philosophers, theologians, and scientists for centuries * There is no one definitive answer, as the meaning of life is ultimately a personal and subjective experience * However, there are many different theories and perspectives on what the meaning of life could be *\n> \n> Here are some common ideas about the meaning of life:\n> \n> **1 * To find happiness and fulfillment *** Many people believe that the meaning of life is to find happiness and fulfillment in their own lives * This can be achieved through a variety of means, such as pursuing personal goals, developing close relationships, and engaging in activities that bring joy and satisfaction *\n> \n> **2 * To make a difference in the world *** Others believe that the meaning of life is to make a positive difference in the world * This can be done through acts of kindness, charity, activism, or simply by living a life that inspires others *\n> \n> **3 * To learn and grow *** Some people believe that the meaning of life is to learn and grow as a person * This can be achieved through education, travel, new experiences, and relationships *\n> \n> **4 * To connect with something greater than oneself *** Many people find meaning in life by connecting with something greater than themselves, such as a higher power, nature, or the universe * This can be done through prayer, meditation, spiritual practices, or simply by spending time in nature *\n> \n> **5 * To create something lasting *** Some people believe that the meaning of life is to create something that will last beyond their lifetime * This can be achieved through art, writing, music, or any other creative endeavor *\n> \n> Ultimately, the meaning of life is a personal journey, and there is no right or wrong answer * What is meaningful to one person may not be meaningful to another * The important thing is to find what brings you joy, fulfillment, and purpose in your own life *\n> \n> Here are some additional perspectives on the meaning of life:\n> \n> * **The Dalai Lama:** \"The purpose of our lives is to be happy *\"\n> * **Viktor Frankl:** \"Man's search for meaning is the primary motivation in his life *\"\n> * **Albert Camus:** \"Life is meaningless, but we must give it meaning *\"\n> * **Friedrich Nietzsche:** \"He who has a why to live for can bear almost any how *\"\n> * **Leo Tolstoy:** \"The meaning of life is not to be happy, but to be useful *\"\n> * **Bertrand Russell:** \"The good life is one inspired by love and guided by knowledge *\"\n> \n> No matter what your beliefs are, the search for meaning in life is a journey that can be both challenging and rewarding * By reflecting on what is important to you and what brings you joy, you can find your own unique meaning of life *"
          },
          "metadata": {},
          "execution_count": 19
        }
      ]
    },
    {
      "cell_type": "markdown",
      "source": [
        "Thanks for watching"
      ],
      "metadata": {
        "id": "5ueeU4HCHA1f"
      }
    },
    {
      "cell_type": "markdown",
      "source": [
        "Please subscribe"
      ],
      "metadata": {
        "id": "Pj_3HiGLHEFY"
      }
    },
    {
      "cell_type": "code",
      "source": [],
      "metadata": {
        "id": "AWTPJTpFG7V2"
      },
      "execution_count": null,
      "outputs": []
    }
  ]
}